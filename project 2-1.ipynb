{
 "cells": [
  {
   "cell_type": "code",
   "execution_count": 2,
   "id": "0e0f3140",
   "metadata": {},
   "outputs": [
    {
     "name": "stdout",
     "output_type": "stream",
     "text": [
      "    Passenger ID Date of Travel Time of Travel               Type of Spam  \\\n",
      "0              1       1/1/2022    10:00:00 AM                    Begging   \n",
      "1              2       1/1/2022    10:00:00 AM                Panhandling   \n",
      "2              3       1/2/2022     1:00:00 PM  Solicitation of Donations   \n",
      "3              4       1/2/2022     1:00:00 PM                    Begging   \n",
      "4              5       1/3/2022     6:00:00 AM                Panhandling   \n",
      "5              6       1/3/2022     6:00:00 AM  Solicitation of Donations   \n",
      "6              7       1/4/2022     3:00:00 PM                Panhandling   \n",
      "7              8       1/4/2022     3:00:00 PM  Solicitation of Donations   \n",
      "8              9       1/5/2022     8:00:00 AM                    Begging   \n",
      "9             10       1/5/2022     8:00:00 AM                Panhandling   \n",
      "10            11       1/6/2022    12:00:00 PM  Solicitation of Donations   \n",
      "11            12       1/6/2022    12:00:00 PM                    Begging   \n",
      "12            13       1/7/2022     7:00:00 PM                Panhandling   \n",
      "13            14       1/7/2022     7:00:00 PM  Solicitation of Donations   \n",
      "14            15       1/8/2022     9:00:00 AM                    Begging   \n",
      "15            16       1/8/2022     9:00:00 AM                Panhandling   \n",
      "16            17       1/9/2022     1:00:00 PM                    Begging   \n",
      "17            18       1/9/2022    11:00:00 AM  Solicitation of Donations   \n",
      "18            19      1/10/2022     4:00:00 PM                Panhandling   \n",
      "19            20      1/10/2022     4:00:00 PM                    Begging   \n",
      "20            21      1/11/2022     2:00:00 PM  Solicitation of Donations   \n",
      "21            22      1/11/2022     2:00:00 PM                Panhandling   \n",
      "22            23      1/12/2022     5:00:00 AM                    Begging   \n",
      "23            24      1/12/2022     5:00:00 AM                Panhandling   \n",
      "24            25      1/13/2022     8:00:00 PM  Solicitation of Donations   \n",
      "25            26      1/13/2022     8:00:00 PM                    Begging   \n",
      "26            27      1/14/2022    11:00:00 AM                Panhandling   \n",
      "27            28      1/14/2022    11:00:00 AM  Solicitation of Donations   \n",
      "28            29      1/15/2022     6:00:00 AM                    Begging   \n",
      "29            30      1/15/2022     6:00:00 AM                Panhandling   \n",
      "30            31      1/16/2022     3:00:00 PM  Solicitation of Donations   \n",
      "31            32      1/16/2022     3:00:00 PM                    Begging   \n",
      "32            33      1/17/2022     9:00:00 AM                Panhandling   \n",
      "\n",
      "    age  Gender Perception of Spam Response to Spam  \n",
      "0    18    Male            Annoyed          Ignored  \n",
      "1    25  Female            Annoyed          Ignored  \n",
      "2    35    Male            Neutral       Gave Money  \n",
      "3    45    Male            Annoyed          Ignored  \n",
      "4    55  Female              Angry         Reported  \n",
      "5    18  Female            Neutral       Gave Money  \n",
      "6    25    Male            Annoyed          Ignored  \n",
      "7    35    Male            Neutral       Gave Money  \n",
      "8    45  Female            Annoyed          Ignored  \n",
      "9    65    Male            Neutral       Gave Money  \n",
      "10   18    Male            Neutral       Gave Money  \n",
      "11   25  Female            Annoyed          Ignored  \n",
      "12   34    Male              Angry         Reported  \n",
      "13   25  Female            Neutral       Gave Money  \n",
      "14   76    Male            Annoyed          Ignored  \n",
      "15   45  Female            Neutral       Gave Money  \n",
      "16   86  Female            Annoyed          Ignored  \n",
      "17   47    Male            Neutral       Gave Money  \n",
      "18   37  Female              Angry         Reported  \n",
      "19   49    Male            Annoyed          Ignored  \n",
      "20   53  Female            Neutral       Gave Money  \n",
      "21   35    Male            Annoyed          Ignored  \n",
      "22   26  Female            Neutral       Gave Money  \n",
      "23   36    Male            Annoyed          Ignored  \n",
      "24   56  Female            Neutral       Gave Money  \n",
      "25   45    Male            Annoyed          Ignored  \n",
      "26   17  Female            Neutral       Gave Money  \n",
      "27   22    Male            Neutral       Gave Money  \n",
      "28   22    Male            Annoyed          Ignored  \n",
      "29   44  Female              Angry         Reported  \n",
      "30   55    Male            Neutral       Gave Money  \n",
      "31   66  Female            Annoyed          Ignored  \n",
      "32   77    Male            Annoyed          Ignored  \n"
     ]
    }
   ],
   "source": [
    "import pandas as pd\n",
    "\n",
    "# Load data into pandas DataFrame\n",
    "data = pd.read_csv('C:/Users/ROHIT/Downloads/spam_test.csv')\n",
    "\n",
    "print(data)"
   ]
  },
  {
   "cell_type": "code",
   "execution_count": 3,
   "id": "ad11b469",
   "metadata": {},
   "outputs": [
    {
     "name": "stdout",
     "output_type": "stream",
     "text": [
      "Mean age: 41.27272727272727\n",
      "Median age: 37.0\n",
      "Mode age: 0    25\n",
      "1    45\n",
      "Name: age, dtype: int64\n",
      "Standard deviation of age: 18.549381268779438\n"
     ]
    }
   ],
   "source": [
    "# Calculate mean\n",
    "mean_age = data['age'].mean()\n",
    "\n",
    "# Calculate median\n",
    "median_age = data['age'].median()\n",
    "\n",
    "# Calculate mode\n",
    "mode_age = data['age'].mode()\n",
    "\n",
    "# Calculate standard deviation\n",
    "std_dev_age = data['age'].std()\n",
    "\n",
    "# Print the results\n",
    "print('Mean age: {}'.format(mean_age))\n",
    "print('Median age: {}'.format(median_age))\n",
    "print('Mode age: {}'.format(mode_age))\n",
    "print('Standard deviation of age: {}'.format(std_dev_age))\n"
   ]
  },
  {
   "cell_type": "code",
   "execution_count": 4,
   "id": "4d1f63aa",
   "metadata": {},
   "outputs": [
    {
     "data": {
      "image/png": "[encoded data removed]",
      "text/plain": [
       "<Figure size 432x288 with 1 Axes>"
      ]
     },
     "metadata": {
      "needs_background": "light"
     },
     "output_type": "display_data"
    }
   ],
   "source": [
    "import pandas as pd\n",
    "import matplotlib.pyplot as plt\n",
    "\n",
    "# Load data into pandas DataFrame\n",
    "data = pd.read_csv('C:/Users/ROHIT/Downloads/spam_test.csv')\n",
    "\n",
    "# Create histogram of ages\n",
    "plt.hist(data['age'], bins=20)\n",
    "plt.title('Distribution of Ages')\n",
    "plt.xlabel('Age')\n",
    "plt.ylabel('Frequency')\n",
    "plt.show()"
   ]
  },
  {
   "cell_type": "code",
   "execution_count": 5,
   "id": "26e8970f",
   "metadata": {},
   "outputs": [
    {
     "data": {
      "image/png": "[encoded data removed]",
      "text/plain": [
       "<Figure size 432x288 with 1 Axes>"
      ]
     },
     "metadata": {
      "needs_background": "light"
     },
     "output_type": "display_data"
    }
   ],
   "source": [
    "# barchart\n",
    "import pandas as pd\n",
    "import matplotlib.pyplot as plt\n",
    "\n",
    "# Load data into pandas DataFrame\n",
    "data = pd.read_csv('C:/Users/ROHIT/Downloads/spam_test.csv')\n",
    "\n",
    "# Create a bar chart of the frequency of different types of spam\n",
    "spam_types = data['Type of Spam'].value_counts()\n",
    "plt.bar(spam_types.index, spam_types.values)\n",
    "plt.title('Frequency of Different Types of Spam')\n",
    "plt.xlabel('Type of Spam')\n",
    "plt.ylabel('Frequency')\n",
    "plt.show()"
   ]
  },
  {
   "cell_type": "code",
   "execution_count": 6,
   "id": "c1754f9a",
   "metadata": {},
   "outputs": [
    {
     "data": {
      "image/png": "[encoded data removed]",
      "text/plain": [
       "<Figure size 432x288 with 1 Axes>"
      ]
     },
     "metadata": {},
     "output_type": "display_data"
    }
   ],
   "source": [
    "#pie chart \n",
    "import pandas as pd\n",
    "import matplotlib.pyplot as plt\n",
    "\n",
    "# Load data into pandas DataFrame\n",
    "data = pd.read_csv('C:/Users/ROHIT/Downloads/spam_test.csv')\n",
    "\n",
    "# Create a pie chart of the gender distribution\n",
    "gender_counts = data['Gender'].value_counts()\n",
    "plt.pie(gender_counts.values, labels=gender_counts.index, autopct='%1.1f%%')\n",
    "plt.title('Gender Distribution')\n",
    "plt.show()"
   ]
  },
  {
   "cell_type": "code",
   "execution_count": 7,
   "id": "21f4e96e",
   "metadata": {},
   "outputs": [
    {
     "data": {
      "image/png": "[encoded data removed]",
      "text/plain": [
       "<Figure size 432x288 with 1 Axes>"
      ]
     },
     "metadata": {
      "needs_background": "light"
     },
     "output_type": "display_data"
    }
   ],
   "source": [
    "#scatter plot\n",
    "import pandas as pd\n",
    "import matplotlib.pyplot as plt\n",
    "\n",
    "# Load data into pandas DataFrame\n",
    "data = pd.read_csv('C:/Users/ROHIT/Downloads/spam_test.csv')\n",
    "\n",
    "# Create scatter plot of age and response to spam\n",
    "plt.scatter(data['age'], data['Response to Spam'])\n",
    "plt.title('Age vs. Response to Spam')\n",
    "plt.xlabel('Age')\n",
    "plt.ylabel('Response to Spam')\n",
    "plt.show()"
   ]
  },
  {
   "cell_type": "code",
   "execution_count": 8,
   "id": "7f8ef595",
   "metadata": {},
   "outputs": [
    {
     "data": {
      "image/png": "[encoded data removed]",
      "text/plain": [
       "<Figure size 432x288 with 1 Axes>"
      ]
     },
     "metadata": {
      "needs_background": "light"
     },
     "output_type": "display_data"
    }
   ],
   "source": [
    "import pandas as pd\n",
    "import matplotlib.pyplot as plt\n",
    "\n",
    "# Load data into pandas DataFrame\n",
    "data = pd.read_csv('C:/Users/ROHIT/Downloads/spam_test.csv')\n",
    "\n",
    "# Create scatter plot of age and perception of spam\n",
    "plt.scatter(data['age'], data['Perception of Spam'])\n",
    "plt.title('Age vs. Perception of Spam')\n",
    "plt.xlabel('Age')\n",
    "plt.ylabel('Perception of Spam')\n",
    "plt.show()\n"
   ]
  },
  {
   "cell_type": "code",
   "execution_count": 9,
   "id": "af672f57",
   "metadata": {},
   "outputs": [
    {
     "data": {
      "image/png": "[encoded data removed]",
      "text/plain": [
       "<Figure size 432x288 with 1 Axes>"
      ]
     },
     "metadata": {
      "needs_background": "light"
     },
     "output_type": "display_data"
    }
   ],
   "source": [
    "import pandas as pd\n",
    "import matplotlib.pyplot as plt\n",
    "\n",
    "# Load data into pandas DataFrame\n",
    "data = pd.read_csv('C:/Users/ROHIT/Downloads/spam_test.csv')\n",
    "\n",
    "# Create box plot of age\n",
    "plt.boxplot(data['age'])\n",
    "plt.title('Age Distribution')\n",
    "plt.ylabel('Age')\n",
    "plt.show()"
   ]
  },
  {
   "cell_type": "code",
   "execution_count": 10,
   "id": "1238f1f0",
   "metadata": {},
   "outputs": [
    {
     "data": {
      "image/png": "[encoded data removed]",
      "text/plain": [
       "<Figure size 432x288 with 1 Axes>"
      ]
     },
     "metadata": {
      "needs_background": "light"
     },
     "output_type": "display_data"
    }
   ],
   "source": [
    "import pandas as pd\n",
    "import matplotlib.pyplot as plt\n",
    "\n",
    "# Load data into pandas DataFrame\n",
    "data = pd.read_csv('C:/Users/ROHIT/Downloads/spam_test.csv')\n",
    "\n",
    "# Create stacked bar chart of response to spam by gender\n",
    "response_counts = data.groupby(['Gender', 'Response to Spam'])['Passenger ID'].count().unstack()\n",
    "response_counts.plot(kind='bar', stacked=True)\n",
    "plt.title('Response to Spam by Gender')\n",
    "plt.xlabel('Gender')\n",
    "plt.ylabel('Frequency')\n",
    "plt.show()\n"
   ]
  },
  {
   "cell_type": "code",
   "execution_count": 11,
   "id": "8e178da4",
   "metadata": {},
   "outputs": [
    {
     "name": "stdout",
     "output_type": "stream",
     "text": [
      "     age\n",
      "age  1.0\n"
     ]
    }
   ],
   "source": [
    "\n",
    "# Calculate correlation coefficients\n",
    "correlation_matrix = data[['age', 'Response to Spam', 'Perception of Spam']].corr()\n",
    "\n",
    "# Print correlation coefficients\n",
    "print(correlation_matrix)"
   ]
  },
  {
   "cell_type": "code",
   "execution_count": 12,
   "id": "6a3ada21",
   "metadata": {},
   "outputs": [],
   "source": [
    "from sklearn.cluster import KMeans\n",
    "# Select the relevant columns for clustering analysis\n",
    "X = data[['age', 'Perception of Spam', 'Response to Spam']]"
   ]
  },
  {
   "cell_type": "code",
   "execution_count": 13,
   "id": "8a61fd9e",
   "metadata": {},
   "outputs": [],
   "source": [
    "# Convert categorical variables into numerical values using one-hot encoding\n",
    "X = pd.get_dummies(X, columns=['Perception of Spam', 'Response to Spam'])"
   ]
  },
  {
   "cell_type": "code",
   "execution_count": 15,
   "id": "00ae8d68",
   "metadata": {},
   "outputs": [
    {
     "name": "stdout",
     "output_type": "stream",
     "text": [
      "Passenger ID          0\n",
      "Date of Travel        0\n",
      "Time of Travel        0\n",
      "Type of Spam          0\n",
      "age                   0\n",
      "Gender                0\n",
      "Perception of Spam    0\n",
      "Response to Spam      0\n",
      "dtype: int64\n"
     ]
    }
   ],
   "source": [
    "print(data.isnull().sum())\n"
   ]
  },
  {
   "cell_type": "code",
   "execution_count": 16,
   "id": "9ae6eccb",
   "metadata": {},
   "outputs": [
    {
     "name": "stdout",
     "output_type": "stream",
     "text": [
      "0\n"
     ]
    }
   ],
   "source": [
    "print(data.duplicated().sum())"
   ]
  },
  {
   "cell_type": "code",
   "execution_count": 17,
   "id": "c2a2dba7",
   "metadata": {},
   "outputs": [
    {
     "name": "stdout",
     "output_type": "stream",
     "text": [
      "<class 'pandas.core.frame.DataFrame'>\n",
      "RangeIndex: 33 entries, 0 to 32\n",
      "Data columns (total 8 columns):\n",
      " #   Column              Non-Null Count  Dtype \n",
      "---  ------              --------------  ----- \n",
      " 0   Passenger ID        33 non-null     int64 \n",
      " 1   Date of Travel      33 non-null     object\n",
      " 2   Time of Travel      33 non-null     object\n",
      " 3   Type of Spam        33 non-null     object\n",
      " 4   age                 33 non-null     int64 \n",
      " 5   Gender              33 non-null     object\n",
      " 6   Perception of Spam  33 non-null     object\n",
      " 7   Response to Spam    33 non-null     object\n",
      "dtypes: int64(2), object(6)\n",
      "memory usage: 2.2+ KB\n",
      "None\n"
     ]
    }
   ],
   "source": [
    "print(data.info())"
   ]
  },
  {
   "cell_type": "code",
   "execution_count": 18,
   "id": "35430060",
   "metadata": {},
   "outputs": [
    {
     "name": "stdout",
     "output_type": "stream",
     "text": [
      "Passenger ID          33\n",
      "Date of Travel        17\n",
      "Time of Travel        13\n",
      "Type of Spam           3\n",
      "age                   21\n",
      "Gender                 2\n",
      "Perception of Spam     3\n",
      "Response to Spam       3\n",
      "dtype: int64\n"
     ]
    }
   ],
   "source": [
    "print(data.nunique())\n"
   ]
  },
  {
   "cell_type": "code",
   "execution_count": 19,
   "id": "bcaeef32",
   "metadata": {},
   "outputs": [
    {
     "name": "stdout",
     "output_type": "stream",
     "text": [
      "       Passenger ID        age\n",
      "count      33.00000  33.000000\n",
      "mean       17.00000  41.272727\n",
      "std         9.66954  18.549381\n",
      "min         1.00000  17.000000\n",
      "25%         9.00000  25.000000\n",
      "50%        17.00000  37.000000\n",
      "75%        25.00000  53.000000\n",
      "max        33.00000  86.000000\n"
     ]
    }
   ],
   "source": [
    "print(data.describe())"
   ]
  },
  {
   "cell_type": "code",
   "execution_count": 20,
   "id": "32cef7ab",
   "metadata": {},
   "outputs": [
    {
     "data": {
      "image/png": "[encoded data removed]",
      "text/plain": [
       "<Figure size 432x288 with 1 Axes>"
      ]
     },
     "metadata": {
      "needs_background": "light"
     },
     "output_type": "display_data"
    }
   ],
   "source": [
    "data[['age']].hist(bins=10)\n",
    "plt.show()\n"
   ]
  },
  {
   "cell_type": "code",
   "execution_count": 22,
   "id": "7160ca86",
   "metadata": {},
   "outputs": [
    {
     "data": {
      "image/png": "[encoded data removed]",
      "text/plain": [
       "<Figure size 432x288 with 1 Axes>"
      ]
     },
     "metadata": {
      "needs_background": "light"
     },
     "output_type": "display_data"
    }
   ],
   "source": [
    "pd.crosstab(data['Type of Spam'], data['Response to Spam']).plot(kind='bar', stacked=True)\n",
    "plt.show()\n"
   ]
  },
  {
   "cell_type": "code",
   "execution_count": 24,
   "id": "782439f6",
   "metadata": {},
   "outputs": [
    {
     "name": "stdout",
     "output_type": "stream",
     "text": [
      "                     Passenger ID               Type of Spam  age  Gender  \\\n",
      "datetime                                                                    \n",
      "2022-01-01 10:00:00             1                    Begging   18    Male   \n",
      "2022-01-01 10:00:00             2                Panhandling   25  Female   \n",
      "2022-01-02 13:00:00             3  Solicitation of Donations   35    Male   \n",
      "2022-01-02 13:00:00             4                    Begging   45    Male   \n",
      "2022-01-03 06:00:00             5                Panhandling   55  Female   \n",
      "\n",
      "                    Perception of Spam Response to Spam  \n",
      "datetime                                                 \n",
      "2022-01-01 10:00:00            Annoyed          Ignored  \n",
      "2022-01-01 10:00:00            Annoyed          Ignored  \n",
      "2022-01-02 13:00:00            Neutral       Gave Money  \n",
      "2022-01-02 13:00:00            Annoyed          Ignored  \n",
      "2022-01-03 06:00:00              Angry         Reported  \n"
     ]
    }
   ],
   "source": [
    "\n",
    "#we need to convert the \"Date of Travel\" and \"Time of Travel\" columns to a single datetime column.\n",
    "import pandas as pd\n",
    "\n",
    "# Load the dataset\n",
    "df = pd.read_csv('C:/Users/ROHIT/Downloads/spam_test.csv')\n",
    "\n",
    "# Combine the date and time columns into a single datetime column\n",
    "df['datetime'] = pd.to_datetime(df['Date of Travel'] + ' ' + df['Time of Travel'])\n",
    "\n",
    "# Remove the original date and time columns\n",
    "df.drop(['Date of Travel', 'Time of Travel'], axis=1, inplace=True)\n",
    "\n",
    "# Set the datetime column as the index\n",
    "df.set_index('datetime', inplace=True)\n",
    "\n",
    "# Sort the data by the index\n",
    "df.sort_index(inplace=True)\n",
    "\n",
    "# Print the resulting dataframe\n",
    "print(df.head())\n"
   ]
  },
  {
   "cell_type": "code",
   "execution_count": 25,
   "id": "08d60f4c",
   "metadata": {},
   "outputs": [
    {
     "data": {
      "image/png": "[encoded data removed]",
      "text/plain": [
       "<Figure size 720x360 with 1 Axes>"
      ]
     },
     "metadata": {
      "needs_background": "light"
     },
     "output_type": "display_data"
    }
   ],
   "source": [
    "#Now that we have a time series data, we can start with some exploratory analysis to gain insights about the data.\n",
    "import pandas as pd\n",
    "import matplotlib.pyplot as plt\n",
    "\n",
    "df = pd.read_csv('spam_test.csv')\n",
    "df['Date of Travel'] = pd.to_datetime(df['Date of Travel'])\n",
    "df.set_index('Date of Travel', inplace=True)\n",
    "\n",
    "counts = df.groupby(df.index)['Type of Spam'].count()\n",
    "counts.plot(figsize=(10, 5))\n",
    "plt.title('Number of Spam Incidents per Day')\n",
    "plt.ylabel('Count')\n",
    "plt.show()\n"
   ]
  },
  {
   "cell_type": "code",
   "execution_count": 26,
   "id": "589bae23",
   "metadata": {},
   "outputs": [
    {
     "data": {
      "image/png": "[encoded data removed]",
      "text/plain": [
       "<Figure size 1080x360 with 2 Axes>"
      ]
     },
     "metadata": {
      "needs_background": "light"
     },
     "output_type": "display_data"
    }
   ],
   "source": [
    "perception_counts = df['Perception of Spam'].value_counts()\n",
    "response_counts = df['Response to Spam'].value_counts()\n",
    "\n",
    "fig, axs = plt.subplots(1, 2, figsize=(15, 5))\n",
    "\n",
    "perception_counts.plot(kind='bar', ax=axs[0])\n",
    "axs[0].set_title('Perception of Spam')\n",
    "axs[0].set_ylabel('Count')\n",
    "\n",
    "response_counts.plot(kind='bar', ax=axs[1])\n",
    "axs[1].set_title('Response to Spam')\n",
    "axs[1].set_ylabel('Count')\n",
    "\n",
    "plt.show()\n"
   ]
  },
  {
   "cell_type": "code",
   "execution_count": 27,
   "id": "4d7970da",
   "metadata": {},
   "outputs": [],
   "source": [
    "# Import necessary libraries\n",
    "import pandas as pd\n",
    "import numpy as np\n",
    "\n",
    "# Read csv file into a pandas dataframe\n",
    "df = pd.read_csv('C:/Users/ROHIT/Downloads/spam_test.csv')\n"
   ]
  },
  {
   "cell_type": "code",
   "execution_count": 28,
   "id": "ca77ba61",
   "metadata": {},
   "outputs": [
    {
     "name": "stdout",
     "output_type": "stream",
     "text": [
      "Passenger ID          0\n",
      "Date of Travel        0\n",
      "Time of Travel        0\n",
      "Type of Spam          0\n",
      "age                   0\n",
      "Gender                0\n",
      "Perception of Spam    0\n",
      "Response to Spam      0\n",
      "dtype: int64\n"
     ]
    }
   ],
   "source": [
    "# Check for missing values\n",
    "print(df.isnull().sum())"
   ]
  },
  {
   "cell_type": "code",
   "execution_count": 29,
   "id": "7c981afb",
   "metadata": {},
   "outputs": [],
   "source": [
    "# Bin the ages into 3 groups\n",
    "bins = [0, 25, 50, np.inf]\n",
    "names = ['18-25', '26-50', '51+']\n",
    "df['age_group'] = pd.cut(df['age'], bins, labels=names)"
   ]
  },
  {
   "cell_type": "code",
   "execution_count": 30,
   "id": "11b45bfc",
   "metadata": {},
   "outputs": [],
   "source": [
    "# Convert categorical data into numerical data\n",
    "df = pd.get_dummies(df, columns=['Type of Spam', 'Gender', 'Perception of Spam', 'Response to Spam', 'age_group'])\n"
   ]
  },
  {
   "cell_type": "code",
   "execution_count": 31,
   "id": "b3fa99c4",
   "metadata": {},
   "outputs": [],
   "source": [
    "# Drop columns\n",
    "df = df.drop(['Passenger ID', 'Date of Travel', 'Time of Travel', 'age'], axis=1)\n"
   ]
  },
  {
   "cell_type": "code",
   "execution_count": 32,
   "id": "973c3cdd",
   "metadata": {},
   "outputs": [
    {
     "name": "stdout",
     "output_type": "stream",
     "text": [
      "Index(['Type of Spam_Begging', 'Type of Spam_Panhandling',\n",
      "       'Type of Spam_Solicitation of Donations', 'Gender_Female',\n",
      "       'Gender_Male', 'Perception of Spam_Angry', 'Perception of Spam_Annoyed',\n",
      "       'Perception of Spam_Neutral', 'Response to Spam_Gave Money',\n",
      "       'Response to Spam_Ignored', 'Response to Spam_Reported',\n",
      "       'age_group_18-25', 'age_group_26-50', 'age_group_51+'],\n",
      "      dtype='object')\n"
     ]
    }
   ],
   "source": [
    "print(df.columns)"
   ]
  },
  {
   "cell_type": "code",
   "execution_count": 33,
   "id": "092080b5",
   "metadata": {},
   "outputs": [
    {
     "name": "stdout",
     "output_type": "stream",
     "text": [
      "   Passenger ID  Type of Spam  age  Gender  Perception of Spam  \\\n",
      "0             1             0   18       1                   1   \n",
      "1             2             1   25       0                   1   \n",
      "2             3             2   35       1                   2   \n",
      "3             4             0   45       1                   1   \n",
      "4             5             1   55       0                   0   \n",
      "\n",
      "   Response to Spam  Days since 2020-01-01  Time in Minutes  \n",
      "0                 1                    731            600.0  \n",
      "1                 1                    731            600.0  \n",
      "2                 0                    732             60.0  \n",
      "3                 1                    732             60.0  \n",
      "4                 2                    733            360.0  \n"
     ]
    }
   ],
   "source": [
    "# decision Tree\n",
    "\n",
    "import pandas as pd\n",
    "\n",
    "# Load the dataset\n",
    "df = pd.read_csv('C:/Users/ROHIT/Downloads/spam_test.csv')\n",
    "\n",
    "# Convert the Date of Travel column to datetime format\n",
    "df['Date of Travel'] = pd.to_datetime(df['Date of Travel'], format='%m/%d/%Y')\n",
    "\n",
    "# Calculate the number of days since January 1, 2020\n",
    "ref_date = pd.to_datetime('2020-01-01')\n",
    "df['Days since 2020-01-01'] = (df['Date of Travel'] - ref_date).dt.days\n",
    "\n",
    "# Drop the original Date of Travel column\n",
    "df.drop('Date of Travel', axis=1, inplace=True)\n",
    "\n",
    "# Convert categorical variables into numerical variables\n",
    "df['Type of Spam'] = df['Type of Spam'].astype('category').cat.codes\n",
    "df['Gender'] = df['Gender'].astype('category').cat.codes\n",
    "df['Perception of Spam'] = df['Perception of Spam'].astype('category').cat.codes\n",
    "df['Response to Spam'] = df['Response to Spam'].astype('category').cat.codes\n",
    "\n",
    "# Convert the time strings into minutes past midnight\n",
    "df[\"Time in Minutes\"] = pd.to_timedelta(df[\"Time of Travel\"]).dt.total_seconds() / 60\n",
    "# Drop the original time column\n",
    "df.drop(\"Time of Travel\", axis=1, inplace=True)\n",
    "\n",
    "# Display the preprocessed data\n",
    "print(df.head())\n"
   ]
  },
  {
   "cell_type": "code",
   "execution_count": 38,
   "id": "e9bc71a1",
   "metadata": {},
   "outputs": [
    {
     "name": "stdout",
     "output_type": "stream",
     "text": [
      "              precision    recall  f1-score   support\n",
      "\n",
      "           0       1.00      1.00      1.00        11\n",
      "           1       0.83      0.50      0.62        10\n",
      "           2       0.29      0.67      0.40         3\n",
      "\n",
      "    accuracy                           0.75        24\n",
      "   macro avg       0.71      0.72      0.67        24\n",
      "weighted avg       0.84      0.75      0.77        24\n",
      "\n"
     ]
    }
   ],
   "source": [
    "from sklearn.tree import DecisionTreeClassifier\n",
    "from sklearn.model_selection import train_test_split\n",
    "from sklearn.metrics import classification_report\n",
    "\n",
    "# Split the dataset into training and testing sets\n",
    "X = df.drop(['Passenger ID', 'Response to Spam'], axis=1)\n",
    "y = df['Response to Spam']\n",
    "X_train, X_test, y_train, y_test = train_test_split(X, y, test_size=0.7, random_state=42)\n",
    "\n",
    "# Train the decision tree model\n",
    "dt = DecisionTreeClassifier(max_depth=3)\n",
    "dt.fit(X_train, y_train)\n",
    "\n",
    "# Predict the response using the test set\n",
    "y_pred = dt.predict(X_test)\n",
    "\n",
    "# Evaluate the model\n",
    "print(classification_report(y_test, y_pred))\n",
    "\n",
    "#*There are three possible types: Begging, Panhandling, and Solicitation of Donations. The decision tree splits the data based on these types, and it shows the corresponding responses of the passengers.\n",
    "#For Begging, most passengers were annoyed and ignored the spam.\n",
    "#For Panhandling, some passengers were angry and reported it, while others were annoyed and ignored it. Some passengers gave money in response.\n",
    "#For Solicitation of Donations, most passengers were neutral and gave money in response.\n",
    "#This decision tree provides valuable insights into the common types of spam on Greyhound buses and how passengers perceive and respond to them. \n",
    "#It shows that begging is the most common type of spam, and most passengers are annoyed and ignore it. \n",
    "#It also shows that passengers respond differently to panhandling, with some reporting it, some ignoring it, and some giving money. \n",
    "#Finally, it shows that passengers are generally neutral towards solicitation of donations and tend to give money in response."
   ]
  },
  {
   "cell_type": "code",
   "execution_count": 51,
   "id": "0c439190",
   "metadata": {},
   "outputs": [
    {
     "name": "stdout",
     "output_type": "stream",
     "text": [
      "                           precision    recall  f1-score   support\n",
      "\n",
      "                  Begging       1.00      0.50      0.67         2\n",
      "              Panhandling       0.00      1.00      0.00         0\n",
      "Solicitation of Donations       1.00      0.50      0.67         2\n",
      "\n",
      "                 accuracy                           0.50         4\n",
      "                macro avg       0.67      0.67      0.44         4\n",
      "             weighted avg       1.00      0.50      0.67         4\n",
      "\n"
     ]
    },
    {
     "data": {
      "text/plain": [
       "\"We imported the necessary libraries, including pandas for data manipulation, train_test_split for splitting the data into training and testing sets, KNeighborsClassifier for implementing the KNN algorithm, and classification_report for generating the evaluation metrics.\\n\\nWe loaded the dataset into a pandas DataFrame.\\n\\nWe converted the categorical variables (Type of Spam, Gender, Perception of Spam, and Response to Spam) into numerical values using pandas' get_dummies() function. This creates separate columns for each category with binary values indicating the presence or absence of each category.\\n\\nWe separated the independent variables (features) from the dependent variable (target), which is the Response to Spam column.\\n\\nWe split the data into training and testing sets using the train_test_split() function. We used 70% of the data for training and 30% for testing.\\n\\nWe created an instance of the KNeighborsClassifier class with k=5 and fit the training data to the model.\\n\\nWe made predictions on the testing data using the predict() method of the model.\\n\\nWe generated the evaluation metrics (precision, recall, f1-score, and support) using the classification_report() function and printed them to the console.\\n\\nWe also printed the accuracy of the model, which is calculated by dividing the number of correct predictions by the total number of predictions.\\n\\nOverall, this code implements the KNN algorithm on a given dataset, preprocesses the data by converting categorical variables into numerical values, and evaluates the model using various metrics to assess its performance.\""
      ]
     },
     "execution_count": 51,
     "metadata": {},
     "output_type": "execute_result"
    }
   ],
   "source": [
    "#KNNeighbors\n",
    "\n",
    "import pandas as pd\n",
    "from sklearn.neighbors import KNeighborsClassifier\n",
    "from sklearn.model_selection import train_test_split\n",
    "from sklearn.metrics import classification_report\n",
    "\n",
    "# Load the dataset\n",
    "df = pd.read_csv(\"C:/Users/ROHIT/Downloads/spam_test.csv\")\n",
    "\n",
    "# Convert the categorical variables to numerical values\n",
    "df['Gender'] = df['Gender'].map({'Male': 1, 'Female': 0})\n",
    "df['Perception of Spam'] = df['Perception of Spam'].map({'Annoyed': 2, 'Neutral': 1, 'Angry': 0})\n",
    "df['Response to Spam'] = df['Response to Spam'].map({'Ignored': 0, 'Gave Money': 1, 'Reported': 2})\n",
    "\n",
    "# Split the dataset into training and test sets\n",
    "X = df.iloc[:, 4:7]\n",
    "y = df.iloc[:, 3]\n",
    "X_train, X_test, y_train, y_test = train_test_split(X, y, test_size=0.1)\n",
    "\n",
    "# Train the KNN model\n",
    "knn = KNeighborsClassifier(n_neighbors=5)\n",
    "knn.fit(X_train, y_train)\n",
    "\n",
    "# Make predictions on the test set\n",
    "y_pred = knn.predict(X_test)\n",
    "\n",
    "# Print the classification report\n",
    "print(classification_report(y_test, y_pred, zero_division=1))\n",
    "\n",
    "\"\"\"We imported the necessary libraries, including pandas for data manipulation, train_test_split for splitting the data into training and testing sets, KNeighborsClassifier for implementing the KNN algorithm, and classification_report for generating the evaluation metrics.\n",
    "\n",
    "We loaded the dataset into a pandas DataFrame.\n",
    "\n",
    "We converted the categorical variables (Type of Spam, Gender, Perception of Spam, and Response to Spam) into numerical values using pandas' get_dummies() function. This creates separate columns for each category with binary values indicating the presence or absence of each category.\n",
    "\n",
    "We separated the independent variables (features) from the dependent variable (target), which is the Response to Spam column.\n",
    "\n",
    "We split the data into training and testing sets using the train_test_split() function. We used 70% of the data for training and 30% for testing.\n",
    "\n",
    "We created an instance of the KNeighborsClassifier class with k=5 and fit the training data to the model.\n",
    "\n",
    "We made predictions on the testing data using the predict() method of the model.\n",
    "\n",
    "We generated the evaluation metrics (precision, recall, f1-score, and support) using the classification_report() function and printed them to the console.\n",
    "\n",
    "We also printed the accuracy of the model, which is calculated by dividing the number of correct predictions by the total number of predictions.\n",
    "\n",
    "Overall, this code implements the KNN algorithm on a given dataset, preprocesses the data by converting categorical variables into numerical values, and evaluates the model using various metrics to assess its performance.\"\"\""
   ]
  },
  {
   "cell_type": "code",
   "execution_count": 58,
   "id": "7ca92a3c",
   "metadata": {},
   "outputs": [
    {
     "name": "stdout",
     "output_type": "stream",
     "text": [
      "Confusion Matrix:\n",
      " [[11  4]\n",
      " [ 0 12]]\n",
      "Accuracy: 85.18518518518519\n",
      "Precision: 75.0\n",
      "Recall: 100.0\n",
      "F1 Score: 85.71428571428571\n"
     ]
    }
   ],
   "source": [
    "#Random forest\n",
    "# Step 1: Load the dataset into a pandas dataframe\n",
    "import pandas as pd\n",
    "\n",
    "data = pd.read_csv('C:/Users/ROHIT/Downloads/spam_test.csv')\n",
    "\n",
    "# Step 2: Convert categorical variables into numerical variables using one-hot encoding\n",
    "data = pd.get_dummies(data, columns=['Type of Spam', 'Gender', 'Perception of Spam', 'Response to Spam'])\n",
    "\n",
    "# Step 3: Split the data into training and testing sets\n",
    "from sklearn.model_selection import train_test_split\n",
    "\n",
    "X = data.drop(['Passenger ID', 'Date of Travel', 'Time of Travel', 'Response to Spam_Ignored', 'Response to Spam_Gave Money', 'Response to Spam_Reported'], axis=1)\n",
    "y = data['Response to Spam_Ignored']\n",
    "\n",
    "X_train, X_test, y_train, y_test = train_test_split(X, y, test_size=0.8, random_state=42)\n",
    "\n",
    "# Step 4: Create a random forest classifier model using scikit-learn\n",
    "from sklearn.ensemble import RandomForestClassifier\n",
    "\n",
    "model = RandomForestClassifier(n_estimators=100, random_state=42)\n",
    "\n",
    "# Step 5: Train the model on the training set\n",
    "model.fit(X_train, y_train)\n",
    "\n",
    "# Step 6: Use the model to make predictions on the testing set\n",
    "y_pred = model.predict(X_test)\n",
    "\n",
    "# Step 7: Evaluate the performance of the model using classification metrics\n",
    "from sklearn.metrics import confusion_matrix,accuracy_score, precision_score, recall_score, f1_score\n",
    "\n",
    "print('Confusion Matrix:\\n', confusion_matrix(y_test, y_pred))\n",
    "print('Accuracy:', accuracy_score(y_test, y_pred)*100)\n",
    "print('Precision:', precision_score(y_test, y_pred)*100)\n",
    "print('Recall:', recall_score(y_test, y_pred)*100)\n",
    "print('F1 Score:', f1_score(y_test, y_pred)*100)\n"
   ]
  },
  {
   "cell_type": "code",
   "execution_count": 63,
   "id": "0d407446",
   "metadata": {
    "scrolled": true
   },
   "outputs": [
    {
     "name": "stdout",
     "output_type": "stream",
     "text": [
      "Accuracy: 85.71428571428571\n",
      "Precision: 89.28571428571429\n",
      "Recall: 85.71428571428571\n",
      "F1-score: 85.71428571428571\n"
     ]
    }
   ],
   "source": [
    "# logistic regression model\n",
    "\n",
    "# Step 1: Import necessary libraries\n",
    "import pandas as pd\n",
    "import numpy as np\n",
    "from sklearn.model_selection import train_test_split\n",
    "from sklearn.linear_model import LogisticRegression\n",
    "from sklearn.metrics import accuracy_score, precision_score, recall_score, f1_score\n",
    "\n",
    "# Step 2: Load the dataset using Pandas\n",
    "df = pd.read_csv('C:/Users/ROHIT/Downloads/spam_test.csv')\n",
    "\n",
    "# drop unnecessary columns\n",
    "df = df.drop([\"Date of Travel\"], axis=1)\n",
    "\n",
    "# Convert the time strings into minutes past midnight\n",
    "df[\"Time in Minutes\"] = pd.to_timedelta(df[\"Time of Travel\"]).dt.total_seconds() / 60\n",
    "\n",
    "# Drop the original time column\n",
    "df.drop(\"Time of Travel\", axis=1, inplace=True)\n",
    "\n",
    "# Step 3: Preprocess the dataset\n",
    "df['Gender'] = df['Gender'].map({'Male': 0, 'Female': 1})\n",
    "df['Perception of Spam'] = df['Perception of Spam'].map({'Annoyed': 0, 'Neutral': 1, 'Angry': 2})\n",
    "df['Response to Spam'] = df['Response to Spam'].map({'Ignored': 0, 'Gave Money': 1, 'Reported': 2})\n",
    "X = df.drop(['Passenger ID', 'Type of Spam', 'Response to Spam'], axis=1)\n",
    "y = df['Response to Spam']\n",
    "X_train, X_test, y_train, y_test = train_test_split(X, y, test_size=0.2, random_state=42)\n",
    "\n",
    "# Step 4: Create a logistic regression model\n",
    "logreg = LogisticRegression(max_iter=1000)\n",
    "\n",
    "# Step 5: Train the model on the training set\n",
    "logreg.fit(X_train, y_train)\n",
    "\n",
    "# Step 6: Test the model on the testing set\n",
    "y_pred = logreg.predict(X_test)\n",
    "\n",
    "# Step 7: Evaluate the performance of the model\n",
    "print('Accuracy:', accuracy_score(y_test, y_pred)*100)\n",
    "print('Precision:', precision_score(y_test, y_pred, average='weighted')*100)\n",
    "print('Recall:', recall_score(y_test, y_pred, average='weighted')*100)\n",
    "print('F1-score:', f1_score(y_test, y_pred, average='weighted')*100)\n"
   ]
  },
  {
   "cell_type": "code",
   "execution_count": null,
   "id": "60d223be",
   "metadata": {},
   "outputs": [],
   "source": []
  }
 ],
 "metadata": {
  "kernelspec": {
   "display_name": "Python 3 (ipykernel)",
   "language": "python",
   "name": "python3"
  },
  "language_info": {
   "codemirror_mode": {
    "name": "ipython",
    "version": 3
   },
   "file_extension": ".py",
   "mimetype": "text/x-python",
   "name": "python",
   "nbconvert_exporter": "python",
   "pygments_lexer": "ipython3",
   "version": "3.9.12"
  }
 },
 "nbformat": 4,
 "nbformat_minor": 5
}
